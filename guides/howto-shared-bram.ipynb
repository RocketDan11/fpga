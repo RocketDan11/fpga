{
 "cells": [
  {
   "cell_type": "markdown",
   "metadata": {},
   "source": [
    "This guide will show to to build and program a shared BRAM between zynq processing system and MicroBlaze soft processor.\n",
    "\n",
    "Prerequisites\n",
    "\n",
    "- Vivado and Vitis 2022.1 or later (2024.1 will be used in this guide)\n",
    "- PYNQ-Z2 or PYNQ-Z1\n",
    "\n",
    "Steps\n",
    "\n",
    "    1. Design Hardware\n",
    "    2. Export Bitstream\n",
    "    3. Design Software\n",
    "    4. Program FPGA\n",
    "    5. STEP THROUGH SOFTWARE in debugger to verify functionality\n",
    "\n",
    "\n"
   ]
  },
  {
   "cell_type": "markdown",
   "metadata": {
    "vscode": {
     "languageId": "plaintext"
    }
   },
   "source": [
    "Create new Vivado project, name it \"shared_bram/bram_hw\" or something similar.\n",
    "\n",
    "select PYNQ board\n",
    "\n",
    "Create a Block Design, ill call it ic20_top\n",
    "\n",
    "[+] Add Processing System (PS7)\n",
    "\n",
    "Run block automation, choosing defaults\n",
    "\n",
    "[+] MicroBlaze V\n",
    "\n",
    "Run block automation. choosing defaults\n",
    "    * preset: none\n",
    "\n",
    "    * local memory: 64kb\n",
    "\n",
    "    * local memory ECC: none\n",
    "\n",
    "    * cache configuration: none\n",
    "\n",
    "    * debug module: debug\n",
    "\n",
    "    * peripheral AXI port: enabled\n",
    "\n",
    "    * interrupt port: disabled\n",
    "\n",
    "    * clock connection:  ps7_fclk0\n",
    "\n",
    "![ps7-mb](./assets/shared-mem-ps7-mb.png)\n",
    "\n",
    "[+] AXI BRAM Controller\n",
    "\n",
    "[+] BLock Memory Generator\n",
    "\n",
    "change # of ports on BRAM controller to 1.\n",
    "\n",
    "wire the output of the controller to the input of the block memory generator\n",
    "\n",
    "[+] AXI Interconnect\n",
    "\n",
    "connect master port to AXI BRAM controller\n",
    "\n",
    "![axi-interconnect](./assets/shared-mem-bram.png)\n"
   ]
  }
 ],
 "metadata": {
  "language_info": {
   "name": "python"
  }
 },
 "nbformat": 4,
 "nbformat_minor": 2
}
